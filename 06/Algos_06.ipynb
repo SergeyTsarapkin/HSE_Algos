{
 "cells": [
  {
   "cell_type": "code",
   "execution_count": 44,
   "id": "7532ce79",
   "metadata": {},
   "outputs": [
    {
     "name": "stdout",
     "output_type": "stream",
     "text": [
      "0 1 2 3 4\n",
      "0 1 2 3 4\n"
     ]
    }
   ],
   "source": [
    "import random\n",
    "parents = []\n",
    "\n",
    "def makeSet(v): #O(1)\n",
    "    parents.append(v)\n",
    "\n",
    "def union(x, y):#O(n), хотим O(1)\n",
    "    rootX, rootY = find(x), find(y)\n",
    "    if (rootX != rootY):\n",
    "        if random.random() >= 0.5:\n",
    "            parents[rootY[0]] = rootX[0]\n",
    "        else:\n",
    "            parents[rootX[0]] = rootY[0]\n",
    "\n",
    "def find(x, counter = 0):#O(n), хотим O(1)\n",
    "    if parents[x] != x:\n",
    "        parents[x] = find(parents[x], counter + 1)[0]\n",
    "    return (parents[x], counter)\n",
    "        \n",
    "makeSet(0)\n",
    "makeSet(1)\n",
    "makeSet(2)\n",
    "makeSet(3)\n",
    "makeSet(4)\n",
    "print(*[0, 1, 2, 3, 4])\n",
    "print(*parents)"
   ]
  },
  {
   "cell_type": "code",
   "execution_count": 45,
   "id": "aef797cb",
   "metadata": {},
   "outputs": [
    {
     "name": "stdout",
     "output_type": "stream",
     "text": [
      "(0, 0)\n",
      "(1, 0)\n",
      "***\n",
      "0 1 2 3 4\n",
      "1 1 2 3 4\n",
      "***\n",
      "(1, 0)\n",
      "(1, 0)\n"
     ]
    }
   ],
   "source": [
    "print(find(0))\n",
    "print(find(1))\n",
    "union(0, 1)\n",
    "print(\"***\")\n",
    "print(*[0, 1, 2, 3, 4])\n",
    "print(*parents)\n",
    "print(\"***\")\n",
    "print(find(0))\n",
    "print(find(1))"
   ]
  },
  {
   "cell_type": "code",
   "execution_count": 46,
   "id": "9e589d6f",
   "metadata": {},
   "outputs": [
    {
     "name": "stdout",
     "output_type": "stream",
     "text": [
      "(1, 0)\n",
      "(2, 0)\n",
      "***\n",
      "0 1 2 3 4\n",
      "1 1 1 3 4\n",
      "***\n",
      "(1, 0)\n",
      "(1, 0)\n"
     ]
    }
   ],
   "source": [
    "print(find(1))\n",
    "print(find(2))\n",
    "union(1, 2)\n",
    "print(\"***\")\n",
    "print(*[0, 1, 2, 3, 4])\n",
    "print(*parents)\n",
    "print(\"***\")\n",
    "print(find(1))\n",
    "print(find(2))"
   ]
  },
  {
   "cell_type": "code",
   "execution_count": 47,
   "id": "4b5e1a0d",
   "metadata": {},
   "outputs": [
    {
     "name": "stdout",
     "output_type": "stream",
     "text": [
      "(1, 0)\n",
      "(3, 0)\n",
      "***\n",
      "0 1 2 3 4\n",
      "1 1 1 1 4\n",
      "***\n",
      "(1, 0)\n",
      "(1, 0)\n"
     ]
    }
   ],
   "source": [
    "print(find(2))\n",
    "print(find(3))\n",
    "union(2, 3)\n",
    "print(\"***\")\n",
    "print(*[0, 1, 2, 3, 4])\n",
    "print(*parents)\n",
    "print(\"***\")\n",
    "print(find(2))\n",
    "print(find(3))"
   ]
  },
  {
   "cell_type": "code",
   "execution_count": 48,
   "id": "6a819746",
   "metadata": {},
   "outputs": [
    {
     "name": "stdout",
     "output_type": "stream",
     "text": [
      "(1, 0)\n",
      "(4, 0)\n",
      "***\n",
      "0 1 2 3 4\n",
      "1 4 1 1 4\n",
      "***\n",
      "(4, 0)\n",
      "(4, 0)\n"
     ]
    }
   ],
   "source": [
    "print(find(3))\n",
    "print(find(4))\n",
    "union(3, 4)\n",
    "print(\"***\")\n",
    "print(*[0, 1, 2, 3, 4])\n",
    "print(*parents)\n",
    "print(\"***\")\n",
    "print(find(3))\n",
    "print(find(4))"
   ]
  },
  {
   "cell_type": "code",
   "execution_count": 49,
   "id": "3587a7d4",
   "metadata": {},
   "outputs": [
    {
     "data": {
      "text/plain": [
       "(4, 0)"
      ]
     },
     "execution_count": 49,
     "metadata": {},
     "output_type": "execute_result"
    }
   ],
   "source": [
    "find(0)"
   ]
  },
  {
   "cell_type": "code",
   "execution_count": 50,
   "id": "b5d82bea",
   "metadata": {},
   "outputs": [],
   "source": [
    "import random\n",
    "parents = []\n",
    "\n",
    "def makeSet(v): #O(1)\n",
    "    parents.append(v)\n",
    "\n",
    "def union(x, y):#O(n), хотим O(1)\n",
    "    rootX, rootY = find(x), find(y)\n",
    "    if (rootX != rootY):\n",
    "        if random.random() >= 0.5:\n",
    "            parents[rootY[0]] = rootX[0]\n",
    "        else:\n",
    "            parents[rootX[0]] = rootY[0]\n",
    "\n",
    "def find(x, counter = 0):#O(n), хотим O(1)\n",
    "    if parents[x] != x:\n",
    "        parents[x] = find(parents[x], counter + 1)[0]\n",
    "    return (parents[x], counter)"
   ]
  },
  {
   "cell_type": "code",
   "execution_count": 53,
   "id": "57be6230",
   "metadata": {},
   "outputs": [
    {
     "name": "stdout",
     "output_type": "stream",
     "text": [
      "3 3 7\n",
      "1 2\n",
      "2 3\n",
      "3 1\n",
      "ask 3 3\n",
      "cut 1 2\n",
      "ask 1 2\n",
      "cut 1 3\n",
      "ask 2 1\n",
      "cut 2 3\n",
      "ask 3 1\n"
     ]
    }
   ],
   "source": [
    "n,m,k = map(int, input().split())\n",
    "edges = []\n",
    "for i in range(m):\n",
    "    v1, v2 = map(int, input().split())\n",
    "    edges.append((v1 - 1, v2 - 1))\n",
    "qweryes = []\n",
    "for i in range(k):\n",
    "    z, v1, v2 = input().split()\n",
    "    qweryes.append((z, int(v1) - 1, int(v2) - 1))"
   ]
  },
  {
   "cell_type": "code",
   "execution_count": 54,
   "id": "b7783ffb",
   "metadata": {},
   "outputs": [
    {
     "name": "stdout",
     "output_type": "stream",
     "text": [
      "[(0, 1), (1, 2), (2, 0)]\n",
      "[('ask', 2, 2), ('cut', 0, 1), ('ask', 0, 1), ('cut', 0, 2), ('ask', 1, 0), ('cut', 1, 2), ('ask', 2, 0)]\n"
     ]
    }
   ],
   "source": [
    "print(edges)\n",
    "print(qweryes)"
   ]
  },
  {
   "cell_type": "code",
   "execution_count": 55,
   "id": "4589a4ad",
   "metadata": {},
   "outputs": [],
   "source": [
    "qweryes.reverse()"
   ]
  },
  {
   "cell_type": "code",
   "execution_count": 56,
   "id": "36f06a3e",
   "metadata": {},
   "outputs": [
    {
     "name": "stdout",
     "output_type": "stream",
     "text": [
      "[('ask', 2, 0), ('cut', 1, 2), ('ask', 1, 0), ('cut', 0, 2), ('ask', 0, 1), ('cut', 0, 1), ('ask', 2, 2)]\n"
     ]
    }
   ],
   "source": [
    "print(qweryes)"
   ]
  },
  {
   "cell_type": "code",
   "execution_count": 58,
   "id": "6b763c23",
   "metadata": {},
   "outputs": [
    {
     "name": "stdout",
     "output_type": "stream",
     "text": [
      "YES\n",
      "YES\n",
      "NO\n",
      "NO\n"
     ]
    }
   ],
   "source": [
    "ans = []\n",
    "for i in range(n):\n",
    "    makeSet(i)\n",
    "for i in range(len(qweryes)):\n",
    "    if qweryes[i][0] == 'ask':\n",
    "        if (find(qweryes[i][1]) == find(qweryes[i][2])):\n",
    "            ans.append('YES')\n",
    "        else:\n",
    "            ans.append('NO')\n",
    "    elif qweryes[i][0] == 'cut':\n",
    "        union(qweryes[i][1], qweryes[i][2])\n",
    "ans.reverse()\n",
    "for i in range(len(ans)):\n",
    "    print(ans[i])"
   ]
  },
  {
   "cell_type": "code",
   "execution_count": 70,
   "id": "f07c7b6c",
   "metadata": {},
   "outputs": [],
   "source": [
    "import random\n",
    "parents = []\n",
    "\n",
    "def makeSet(v): #O(1)\n",
    "    parents.append(v)\n",
    "\n",
    "def union(x, y):#O(n), хотим O(1)\n",
    "    rootX, rootY = find(x), find(y)\n",
    "    if (rootX != rootY):\n",
    "        if random.random() >= 0.5:\n",
    "            parents[rootY[0]] = rootX[0]\n",
    "        else:\n",
    "            parents[rootX[0]] = rootY[0]\n",
    "\n",
    "def find(x, counter = 0):#O(n), хотим O(1)\n",
    "    if parents[x] != x:\n",
    "        parents[x] = find(parents[x], counter + 1)[0]\n",
    "    return (parents[x], counter)"
   ]
  },
  {
   "cell_type": "code",
   "execution_count": 73,
   "id": "6085a7fb",
   "metadata": {
    "scrolled": true
   },
   "outputs": [
    {
     "name": "stdout",
     "output_type": "stream",
     "text": [
      "5 7\n",
      "1 2 3\n",
      "2 3 5\n",
      "3 4 2\n",
      "4 5 7\n",
      "1 5 1\n",
      "2 5 4\n",
      "3 5 6\n"
     ]
    }
   ],
   "source": [
    "n, m = map(int, input().split())\n",
    "edges = []\n",
    "for i in range(m):\n",
    "    v1, v2, cost = map(int, input().split())\n",
    "    edges.append((v1 - 1, v2 - 1, cost))\n",
    "\n",
    "for i in range(n):\n",
    "    makeSet(i)\n",
    "\n",
    "edges.sort(key = lambda el: el[2])"
   ]
  },
  {
   "cell_type": "code",
   "execution_count": 74,
   "id": "6f597d96",
   "metadata": {},
   "outputs": [
    {
     "data": {
      "text/plain": [
       "[(0, 4, 1), (2, 3, 2), (0, 1, 3), (1, 4, 4), (1, 2, 5), (2, 4, 6), (3, 4, 7)]"
      ]
     },
     "execution_count": 74,
     "metadata": {},
     "output_type": "execute_result"
    }
   ],
   "source": [
    "edges"
   ]
  },
  {
   "cell_type": "code",
   "execution_count": 75,
   "id": "660e8516",
   "metadata": {},
   "outputs": [],
   "source": [
    "ostov = []\n",
    "c = 0\n",
    "for edge in edges: #O(E)\n",
    "    v1 = edge[0]\n",
    "    v2 = edge[1]\n",
    "    cost = edge[2]\n",
    "    if (find(v1) != find(v2)):\n",
    "        ostov.append(edge)\n",
    "        union(v1, v2)\n",
    "        c += cost\n",
    "    else:\n",
    "        continue\n",
    "#O(V + ElogE + E) = #O(ElogE)"
   ]
  },
  {
   "cell_type": "code",
   "execution_count": 76,
   "id": "4ae29d30",
   "metadata": {},
   "outputs": [
    {
     "name": "stdout",
     "output_type": "stream",
     "text": [
      "[(0, 4, 1), (2, 3, 2), (0, 1, 3), (1, 2, 5)]\n",
      "11\n"
     ]
    }
   ],
   "source": [
    "print(ostov)\n",
    "print(c)"
   ]
  },
  {
   "cell_type": "code",
   "execution_count": 80,
   "id": "7a15898d",
   "metadata": {},
   "outputs": [],
   "source": [
    "import random\n",
    "parents = []\n",
    "\n",
    "def makeSet(v): #O(1)\n",
    "    parents.append(v)\n",
    "\n",
    "def union(x, y):#O(n), хотим O(1)\n",
    "    rootX, rootY = find(x), find(y)\n",
    "    if (rootX != rootY):\n",
    "        if random.random() >= 0.5:\n",
    "            parents[rootY[0]] = rootX[0]\n",
    "        else:\n",
    "            parents[rootX[0]] = rootY[0]\n",
    "\n",
    "def find(x, counter = 0):#O(n), хотим O(1)\n",
    "    if parents[x] != x:\n",
    "        parents[x] = find(parents[x], counter + 1)[0]\n",
    "    return (parents[x], counter)"
   ]
  },
  {
   "cell_type": "code",
   "execution_count": 86,
   "id": "5707a347",
   "metadata": {},
   "outputs": [
    {
     "name": "stdout",
     "output_type": "stream",
     "text": [
      "6 10\n",
      "2 1\n",
      "[2, 1]\n",
      "0\n",
      "1 1 2 1\n",
      "[1, 1, 2, 1]\n",
      "2 1\n",
      "[2, 1]\n",
      "1\n",
      "1 2 4 2\n",
      "[1, 2, 4, 2]\n",
      "2 1\n",
      "[2, 1]\n",
      "3\n",
      "1 1 4 3\n",
      "[1, 1, 4, 3]\n",
      "2 1\n",
      "[2, 1]\n",
      "6\n",
      "1 3 5 3\n",
      "[1, 3, 5, 3]\n",
      "2 5\n",
      "[2, 5]\n",
      "3\n",
      "2 6\n",
      "[2, 6]\n",
      "0\n"
     ]
    }
   ],
   "source": [
    "n, m = map(int, input().split())\n",
    "cost = [0] * n\n",
    "for i in range(n):\n",
    "    makeSet(i)\n",
    "for i in range(m):\n",
    "    s = [int(i) for i in input().split()]\n",
    "    print(s)\n",
    "    if s[0] == 1:\n",
    "        union(s[1] - 1, s[2] - 1)\n",
    "        v1 = find(s[1] - 1)\n",
    "        cost[v1[0]] += s[3]\n",
    "    if s[0] == 2:\n",
    "        print(cost[find(s[1] - 1)[0]])"
   ]
  },
  {
   "cell_type": "code",
   "execution_count": 88,
   "id": "ff15281d",
   "metadata": {},
   "outputs": [],
   "source": [
    "ans = [] * n \n",
    "for i in range(n):\n",
    "    ans.append(i)\n",
    "\n",
    "import random\n",
    "parents = []\n",
    "\n",
    "def makeSet(v): #O(1)\n",
    "    parents.append(v)\n",
    "\n",
    "def union(x, y):#O(n), хотим O(1)\n",
    "    rootX, rootY = find(x), find(y)\n",
    "    if (rootX[0] != rootY[0]):\n",
    "        if rootX[1] < rootY[1]:\n",
    "            parents[rootY[0]] = rootX[0]\n",
    "            for v in range(ans[rootY[0]]):\n",
    "                ans[rootX[0]].append(v)\n",
    "        else:\n",
    "            parents[rootX[0]] = rootY[0]\n",
    "            for v in range(ans[rootX[0]]):\n",
    "                ans[rootY[0]].append(v)\n",
    "\n",
    "def find(x, counter = 0):#O(n), хотим O(1)\n",
    "    if parents[x] != x:\n",
    "        parents[x] = find(parents[x], counter + 1)[0]\n",
    "    return (parents[x], counter)"
   ]
  },
  {
   "cell_type": "code",
   "execution_count": null,
   "id": "37f99f11",
   "metadata": {},
   "outputs": [],
   "source": [
    "n = int(input())\n",
    "\n",
    "for i in range(n):\n",
    "    makeSet(i)\n",
    "\n",
    "for i in range(n):\n",
    "    x, y = map(int, input().split())\n",
    "    union(x - 1, y - 1)\n",
    "    \n",
    "for v in ans[find(0)[0]]:\n",
    "    print(v + 1, end = ' ')"
   ]
  }
 ],
 "metadata": {
  "kernelspec": {
   "display_name": "Python 3 (ipykernel)",
   "language": "python",
   "name": "python3"
  },
  "language_info": {
   "codemirror_mode": {
    "name": "ipython",
    "version": 3
   },
   "file_extension": ".py",
   "mimetype": "text/x-python",
   "name": "python",
   "nbconvert_exporter": "python",
   "pygments_lexer": "ipython3",
   "version": "3.9.12"
  }
 },
 "nbformat": 4,
 "nbformat_minor": 5
}
