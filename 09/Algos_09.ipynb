{
 "cells": [
  {
   "cell_type": "code",
   "execution_count": 11,
   "id": "00a23083",
   "metadata": {},
   "outputs": [
    {
     "name": "stdout",
     "output_type": "stream",
     "text": [
      "apple\n",
      "\n",
      "{'a': 1, 'p': 2, 'l': 1, 'e': 1}\n",
      "peach\n",
      "{'p': 1, 'e': 1, 'a': 1, 'c': 1, 'h': 1}\n",
      "{'a': 2, 'p': 2, 'l': 1, 'e': 2, 'c': 1, 'h': 1}\n",
      "a\n",
      "p\n",
      "e\n"
     ]
    }
   ],
   "source": [
    "import string\n",
    "\n",
    "d_super = {}\n",
    "count = 0\n",
    "with open(\"input.txt\") as f:\n",
    "    for word in f: #k\n",
    "        count += 1\n",
    "        print(word)\n",
    "        d = {}\n",
    "        word_str = word.strip() #\\n\n",
    "        for j in range(len(word_str)): #n\n",
    "            d[word_str[j]] = d.get(word_str[j], 0) + 1\n",
    "        print(d)\n",
    "        for key, items in d.items(): #n\n",
    "            d_super[key] = d_super.get(key, 0) + 1\n",
    "print(d_super)\n",
    "for key, items in d_super.items():\n",
    "    if (items == count):\n",
    "        print(key)"
   ]
  },
  {
   "cell_type": "code",
   "execution_count": 20,
   "id": "23b4e693",
   "metadata": {},
   "outputs": [
    {
     "name": "stdout",
     "output_type": "stream",
     "text": [
      "5\n",
      "der 10\n",
      "{10: {'der': 1}}\n",
      "fun 2\n",
      "{10: {'der': 1}, 2: {'fun': 1}}\n",
      "fun 10\n",
      "{10: {'der': 1, 'fun': 1}, 2: {'fun': 1}}\n",
      "fun 10\n",
      "{10: {'der': 1, 'fun': 2}, 2: {'fun': 1}}\n",
      "lim 7\n",
      "{10: {'der': 1, 'fun': 2}, 2: {'fun': 1}, 7: {'lim': 1}}\n",
      "{10: {'der': 1, 'fun': 2}, 2: {'fun': 1}, 7: {'lim': 1}}\n",
      "10 der fun \n",
      "2 fun \n",
      "7 lim \n"
     ]
    }
   ],
   "source": [
    "n = int(input())\n",
    "d_super = {}\n",
    "for i in range(n):#n\n",
    "    s, n = input().split()\n",
    "    n = int(n)\n",
    "    if (d_super.get(n) != None):\n",
    "        d_super[n] |= {s : d_super[n].get(s, 0) + 1}\n",
    "    else:\n",
    "        d_super[n] = {s : 1}\n",
    "    print(d_super)\n",
    "print(d_super)\n",
    "\n",
    "for key, value in d_super.items():\n",
    "    print(key, end = ' ')\n",
    "    for k, v in value.items():\n",
    "        print(k, end = ' ')\n",
    "    print()\n",
    "\n",
    "# 5\n",
    "# derivative 10\n",
    "# function 2\n",
    "# function 10\n",
    "# function 10\n",
    "# limit 7"
   ]
  },
  {
   "cell_type": "code",
   "execution_count": 30,
   "id": "64bd5b21",
   "metadata": {},
   "outputs": [
    {
     "name": "stdout",
     "output_type": "stream",
     "text": [
      "5\n",
      "42 0\n",
      "17 42\n",
      "13 0\n",
      "123 42\n",
      "5 13\n",
      "42 13 5 17 123 "
     ]
    }
   ],
   "source": [
    "from collections import OrderedDict\n",
    "\n",
    "n = int(input())\n",
    "d_super = {}\n",
    "for i in range(n):\n",
    "    act, prev = map(int, input().split())\n",
    "    if (d_super.get(prev) == None):\n",
    "        d_super[prev] = [act]\n",
    "    else:\n",
    "        d_super[prev].append(act)\n",
    "\n",
    "# d = OrderedDict(sorted(d_super.items()))\n",
    "\n",
    "for i in sorted(d_super):\n",
    "    print(*d_super[i], end = ' ')\n",
    "\n",
    "# print(d_super)\n",
    "# 5\n",
    "# 42 0\n",
    "# 17 42\n",
    "# 13 0\n",
    "# 123 42\n",
    "# 5 13"
   ]
  },
  {
   "cell_type": "markdown",
   "id": "6f0121f1",
   "metadata": {},
   "source": [
    "# "
   ]
  }
 ],
 "metadata": {
  "kernelspec": {
   "display_name": "Python 3 (ipykernel)",
   "language": "python",
   "name": "python3"
  },
  "language_info": {
   "codemirror_mode": {
    "name": "ipython",
    "version": 3
   },
   "file_extension": ".py",
   "mimetype": "text/x-python",
   "name": "python",
   "nbconvert_exporter": "python",
   "pygments_lexer": "ipython3",
   "version": "3.9.12"
  }
 },
 "nbformat": 4,
 "nbformat_minor": 5
}
