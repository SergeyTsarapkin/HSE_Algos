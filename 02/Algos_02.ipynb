{
 "cells": [
  {
   "cell_type": "code",
   "execution_count": 1,
   "id": "d6780f9c",
   "metadata": {},
   "outputs": [],
   "source": [
    "l = [1, 8, 6, 0, 3, 4]"
   ]
  },
  {
   "cell_type": "code",
   "execution_count": 4,
   "id": "429fbd27",
   "metadata": {},
   "outputs": [],
   "source": [
    "def selection_sort(arr):\n",
    "    n = len(arr)\n",
    "    for i in range(n - 1):\n",
    "        min_index = i\n",
    "        for j in range(i + 1, n):\n",
    "            if arr[j] < arr[min_index]:\n",
    "                min_index = j\n",
    "        if min_index != i:\n",
    "            arr[i], arr[min_index] = arr[min_index], arr[i]\n",
    "    return arr"
   ]
  },
  {
   "cell_type": "code",
   "execution_count": 5,
   "id": "ed2b00b7",
   "metadata": {},
   "outputs": [
    {
     "name": "stdout",
     "output_type": "stream",
     "text": [
      "0 1 3 4 6 8\n"
     ]
    }
   ],
   "source": [
    "l_sort = selection_sort(l)\n",
    "print(*l)"
   ]
  },
  {
   "cell_type": "code",
   "execution_count": 7,
   "id": "45a38c33",
   "metadata": {},
   "outputs": [],
   "source": [
    "def selection_sort_desc(arr):\n",
    "    n = len(arr)\n",
    "    for i in range(n - 1):\n",
    "        max_index = i\n",
    "        for j in range(i + 1, n):\n",
    "            if arr[j] > arr[max_index]:\n",
    "                max_index = j\n",
    "        if max_index != i:\n",
    "            arr[i], arr[max_index] = arr[max_index], arr[i]\n",
    "    return arr"
   ]
  },
  {
   "cell_type": "code",
   "execution_count": 8,
   "id": "17d6ab07",
   "metadata": {},
   "outputs": [
    {
     "name": "stdout",
     "output_type": "stream",
     "text": [
      "8 6 4 3 1 0\n"
     ]
    }
   ],
   "source": [
    "l_sort_desc = selection_sort_desc(l)\n",
    "print(*l)"
   ]
  },
  {
   "cell_type": "code",
   "execution_count": 9,
   "id": "9f128a4a",
   "metadata": {},
   "outputs": [],
   "source": [
    "l = [1, 8, 6, 0, 3, 4]"
   ]
  },
  {
   "cell_type": "code",
   "execution_count": 10,
   "id": "21d7f76f",
   "metadata": {},
   "outputs": [],
   "source": [
    "def insertion_sort(arr):\n",
    "    n = len(arr)\n",
    "    for i in range(1, n):\n",
    "        current_value = arr[i]\n",
    "        j = i - 1 # позиция вставки\n",
    "        while j >= 0:\n",
    "            if current_value < arr[j]:\n",
    "                arr[j + 1] = arr[j]\n",
    "                arr[j] = current_value\n",
    "                j = j -1\n",
    "            else:\n",
    "                break\n",
    "    return arr"
   ]
  },
  {
   "cell_type": "code",
   "execution_count": 11,
   "id": "cd2de7c9",
   "metadata": {},
   "outputs": [
    {
     "name": "stdout",
     "output_type": "stream",
     "text": [
      "[0, 1, 3, 4, 6, 8]\n"
     ]
    }
   ],
   "source": [
    "print(insertion_sort(l))"
   ]
  },
  {
   "cell_type": "code",
   "execution_count": 18,
   "id": "5c773f78",
   "metadata": {},
   "outputs": [],
   "source": [
    "def bubble_sort(a):\n",
    "    n = len(a)\n",
    "    for i in range(n): # проход\n",
    "        flag = False\n",
    "        for j in range(n - i - 1):\n",
    "            if a[j] > a[j + 1]:\n",
    "                a[j], a[j + 1] = a[j + 1], a[j]\n",
    "                flag = True\n",
    "        if (not flag):\n",
    "            break\n",
    "    return a"
   ]
  },
  {
   "cell_type": "code",
   "execution_count": 19,
   "id": "e367a43f",
   "metadata": {},
   "outputs": [
    {
     "name": "stdout",
     "output_type": "stream",
     "text": [
      "[0, 1, 3, 4, 6, 8]\n"
     ]
    }
   ],
   "source": [
    "print(bubble_sort(l))"
   ]
  },
  {
   "cell_type": "code",
   "execution_count": 31,
   "id": "06b46b72",
   "metadata": {},
   "outputs": [],
   "source": [
    "def counting_sort(a):\n",
    "    n = len(a)\n",
    "    max_el = max(a)\n",
    "    min_el = min(a)\n",
    "    c = [0] * (max_el - min_el + 1)\n",
    "    for i in range(n):\n",
    "        c[a[i] - min_el] += 1\n",
    "    b = []\n",
    "    print(c)\n",
    "    for i in range(len(c)):\n",
    "        b += [i + min_el] * c[i]\n",
    "    return b"
   ]
  },
  {
   "cell_type": "code",
   "execution_count": 32,
   "id": "45d5a3df",
   "metadata": {},
   "outputs": [
    {
     "name": "stdout",
     "output_type": "stream",
     "text": [
      "[3, 1, 4]\n",
      "[5, 5, 5, 6, 7, 7, 7, 7]\n"
     ]
    }
   ],
   "source": [
    "print(counting_sort([5, 7, 7, 7, 5, 5, 6, 7]))"
   ]
  },
  {
   "cell_type": "code",
   "execution_count": 33,
   "id": "c7efa657",
   "metadata": {},
   "outputs": [],
   "source": [
    "l = [1, 3, 1, 2, 4, 1, 2, 3]"
   ]
  },
  {
   "cell_type": "code",
   "execution_count": 34,
   "id": "7572e802",
   "metadata": {},
   "outputs": [
    {
     "name": "stdout",
     "output_type": "stream",
     "text": [
      "[0, 1, 4, 5, 7, 11, 12, 14, 17]\n"
     ]
    }
   ],
   "source": [
    "s = [0]\n",
    "for i in range(len(l)): #O(n)\n",
    "    s.append(s[i] + l[i])\n",
    "print(s)"
   ]
  },
  {
   "cell_type": "code",
   "execution_count": 36,
   "id": "00f25dc3",
   "metadata": {},
   "outputs": [
    {
     "name": "stdout",
     "output_type": "stream",
     "text": [
      "4\n",
      "1\n",
      "3\n",
      "4\n",
      "0\n",
      "2\n",
      "4\n",
      "1\n",
      "2\n",
      "3\n",
      "0\n",
      "2\n",
      "4\n"
     ]
    }
   ],
   "source": [
    "q = int(input())\n",
    "for i in range(q): #O(q)\n",
    "    a = int(input())\n",
    "    b = int(input())\n",
    "    print(s[b] - s[a])\n",
    "# O(n + q)"
   ]
  },
  {
   "cell_type": "code",
   "execution_count": 37,
   "id": "ad52aa8f",
   "metadata": {},
   "outputs": [
    {
     "name": "stdout",
     "output_type": "stream",
     "text": [
      "4\n",
      "1\n",
      "3\n",
      "4\n",
      "1\n",
      "3\n",
      "4\n",
      "1\n",
      "3\n",
      "4\n",
      "1\n",
      "3\n",
      "4\n"
     ]
    }
   ],
   "source": [
    "l = [1, 3, 1, 2, 4, 1, 2, 3]\n",
    "q = int(input())\n",
    "for j in range(q): # O(q)\n",
    "    a = int(input())\n",
    "    b = int(input())\n",
    "#     print(sum(l[a:b])) #O(n)\n",
    "    s = 0\n",
    "    for i in range(a, b + 1):\n",
    "        s += a[i]\n",
    "    print(s)\n",
    "# O(n*q)"
   ]
  },
  {
   "cell_type": "code",
   "execution_count": 39,
   "id": "4f909d47",
   "metadata": {},
   "outputs": [
    {
     "name": "stdout",
     "output_type": "stream",
     "text": [
      "[0, 0, 1, 1, 2, 3, 3, 4, 4]\n",
      "1\n",
      "1\n",
      "5\n",
      "3\n"
     ]
    }
   ],
   "source": [
    "l = [1, 0, 1, 0, 0, 1, 0, 3]\n",
    "s = [0]\n",
    "for i in range(len(l)): #O(n)\n",
    "    if (l[i] == 0):\n",
    "        s.append(s[i] + 1)\n",
    "    else:\n",
    "        s.append(s[i])\n",
    "print(s)\n",
    "q = int(input())\n",
    "for i in range(q): #O(q)\n",
    "    a = int(input())\n",
    "    b = int(input())\n",
    "    print(s[b] - s[a])\n",
    "# O(n + q)"
   ]
  },
  {
   "cell_type": "code",
   "execution_count": 40,
   "id": "ce9fae47",
   "metadata": {},
   "outputs": [
    {
     "name": "stdout",
     "output_type": "stream",
     "text": [
      "0\n"
     ]
    }
   ],
   "source": [
    "l = [1, 0, 1, 0, 0, 1, 0, 3]\n",
    "q = int(input())\n",
    "for j in range(q): # O(q)\n",
    "    a = int(input())\n",
    "    b = int(input())\n",
    "    count = 0\n",
    "    for i in range(a, b + 1):\n",
    "        if (l[i] == 0):\n",
    "            count += 1\n",
    "    print(count)\n",
    "# O(n*q)"
   ]
  },
  {
   "cell_type": "code",
   "execution_count": 41,
   "id": "f53059a8",
   "metadata": {},
   "outputs": [],
   "source": [
    "import random\n",
    "\n",
    "def quick_sort(arr):\n",
    "    n = len(arr)\n",
    "    if n <= 1:\n",
    "        return arr\n",
    "    pivot = random.choice(arr)\n",
    "    less = [x for x in arr if x < pivot]\n",
    "    greater_or_equal = [x for x in arr if x >= pivot]\n",
    "    return quick_sort(less) + quick_sort(greater_or_equal)"
   ]
  },
  {
   "cell_type": "code",
   "execution_count": 42,
   "id": "91338aa2",
   "metadata": {},
   "outputs": [
    {
     "name": "stdout",
     "output_type": "stream",
     "text": [
      "-10 -1 0 1 2 4 10\n"
     ]
    }
   ],
   "source": [
    "print(*quick_sort([1, 0, -1, 2, 10, 4, -10]))"
   ]
  },
  {
   "cell_type": "code",
   "execution_count": 43,
   "id": "7d10dce5",
   "metadata": {},
   "outputs": [],
   "source": [
    "def merge_sort(arr):\n",
    "    n = len(arr)\n",
    "    if n <= 1:\n",
    "        return arr\n",
    "    else:\n",
    "        middle = len(arr) // 2\n",
    "        left = merge_sort(arr[:middle])\n",
    "        right = merge_sort(arr[middle:])\n",
    "        return merge(left, right)\n",
    "\n",
    "def merge(left, right):\n",
    "    result = []\n",
    "    while len(left) > 0 and len(right) > 0:\n",
    "        if left[0] <= right[0]:\n",
    "            result.append(left[0])\n",
    "            left = left[1:]\n",
    "        else:\n",
    "            result.append(right[0])\n",
    "            right = right[1:]\n",
    "    if len(right) > 0:\n",
    "        result += right\n",
    "    if len(left) > 0:\n",
    "        result += left\n",
    "    return result"
   ]
  },
  {
   "cell_type": "code",
   "execution_count": 44,
   "id": "ed51754e",
   "metadata": {},
   "outputs": [
    {
     "name": "stdout",
     "output_type": "stream",
     "text": [
      "-10 -1 0 1 2 4 10\n"
     ]
    }
   ],
   "source": [
    "print(*merge_sort([1, 0, -1, 2, 10, 4, -10]))"
   ]
  },
  {
   "cell_type": "code",
   "execution_count": null,
   "id": "5f28d133",
   "metadata": {},
   "outputs": [],
   "source": []
  }
 ],
 "metadata": {
  "kernelspec": {
   "display_name": "Python 3 (ipykernel)",
   "language": "python",
   "name": "python3"
  },
  "language_info": {
   "codemirror_mode": {
    "name": "ipython",
    "version": 3
   },
   "file_extension": ".py",
   "mimetype": "text/x-python",
   "name": "python",
   "nbconvert_exporter": "python",
   "pygments_lexer": "ipython3",
   "version": "3.9.12"
  }
 },
 "nbformat": 4,
 "nbformat_minor": 5
}
