{
 "cells": [
  {
   "cell_type": "code",
   "execution_count": 11,
   "id": "81b57eef",
   "metadata": {},
   "outputs": [
    {
     "name": "stdout",
     "output_type": "stream",
     "text": [
      "[0, 2, 6, 9, 11, 15]\n"
     ]
    }
   ],
   "source": [
    "def LIS(arr):\n",
    "    counts = [0] * len(arr)\n",
    "    counts[0] = 1\n",
    "    \n",
    "    for i in range(1, len(arr)):\n",
    "        c_max = 0\n",
    "        for j in range(i):\n",
    "            if (arr[j] < arr[i] and counts[j] > c_max):\n",
    "                c_max = counts[j]\n",
    "        counts[i] = c_max + 1\n",
    "    \n",
    "    max_len = max(counts)\n",
    "    ind_max = -1\n",
    "    max_el = -1\n",
    "    for i in range(len(arr) - 1, -1, -1):\n",
    "        if (counts[i] == max_len):\n",
    "            ind_max = i\n",
    "            max_el = arr[i]\n",
    "            break\n",
    "            \n",
    "    el = [max_el]\n",
    "    for i in range(ind_max, -1, -1):\n",
    "        if ((max_len > 0) and (counts[i] == max_len - 1) and (arr[i] < max_el)):\n",
    "            el.append(arr[i])\n",
    "            max_len -= 1\n",
    "            max_el = arr[i]\n",
    "            \n",
    "    return list(reversed(el))\n",
    "            \n",
    "arr = [0, 8, 4, 12, 2, 10, 6, 14, 1, 9, 5, 13, 3, 11, 7, 15]\n",
    "print(LIS(arr))"
   ]
  },
  {
   "cell_type": "code",
   "execution_count": 19,
   "id": "5e29c860",
   "metadata": {},
   "outputs": [
    {
     "name": "stdout",
     "output_type": "stream",
     "text": [
      "0 1 2 3 4 5 6\n",
      "1 2 3 4 4 5 6\n",
      "2 2 3 4 5 5 6\n",
      "3 3 4 4 5 6 7\n",
      "4 4 5 5 6 6 7\n",
      "5 5 5 6 7 7 8\n",
      "6 6 6 7 7 8 8\n",
      "7 7 7 8 8 8 9\n",
      "9\n"
     ]
    }
   ],
   "source": [
    "def SCS(X, Y, n, m):\n",
    "    if (n == 0 or m == 0):\n",
    "        return n + m\n",
    "    \n",
    "    T = [[0 for x in range(m + 1)] for y in range(n + 1)]\n",
    "    \n",
    "    for i in range(n + 1):\n",
    "        T[i][0] = i\n",
    "        \n",
    "    for j in range(m + 1):\n",
    "        T[0][j] = j\n",
    "        \n",
    "    for i in range(1, n + 1):\n",
    "        for j in range(1, m + 1):\n",
    "            if X[i - 1] == Y[j - 1]:\n",
    "                T[i][j] = T[i - 1][j - 1] + 1\n",
    "            else:\n",
    "                T[i][j] = min(T[i - 1][j], T[i][j - 1]) + 1\n",
    "    for i in range(len(T)):\n",
    "        print(*T[i])\n",
    "    return T[n][m]\n",
    "\n",
    "X = 'ABCBDAB'\n",
    "Y = 'BDCABA'\n",
    "print(SCS(X, Y, len(X), len(Y)))"
   ]
  },
  {
   "cell_type": "code",
   "execution_count": null,
   "id": "562f5222",
   "metadata": {},
   "outputs": [],
   "source": []
  }
 ],
 "metadata": {
  "kernelspec": {
   "display_name": "Python 3 (ipykernel)",
   "language": "python",
   "name": "python3"
  },
  "language_info": {
   "codemirror_mode": {
    "name": "ipython",
    "version": 3
   },
   "file_extension": ".py",
   "mimetype": "text/x-python",
   "name": "python",
   "nbconvert_exporter": "python",
   "pygments_lexer": "ipython3",
   "version": "3.9.12"
  }
 },
 "nbformat": 4,
 "nbformat_minor": 5
}
