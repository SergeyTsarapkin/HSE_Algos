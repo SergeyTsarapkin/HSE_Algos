{
 "cells": [
  {
   "cell_type": "code",
   "execution_count": 2,
   "id": "7273a7f5",
   "metadata": {},
   "outputs": [
    {
     "name": "stdout",
     "output_type": "stream",
     "text": [
      "5\n",
      "0 0 0 0 0\n",
      "0 0 0 0 1\n",
      "1 1 0 0 0\n",
      "0 0 0 0 0\n",
      "0 0 0 0 0\n",
      "[[0, 0, 0, 0, 0], [0, 0, 0, 0, 1], [1, 1, 0, 0, 0], [0, 0, 0, 0, 0], [0, 0, 0, 0, 0]]\n",
      "2 5\n",
      "3 1\n",
      "3 2\n"
     ]
    }
   ],
   "source": [
    "n = int(input())\n",
    "# a = []\n",
    "# for i in range(n):\n",
    "#     s = list(map(int, input().split()))\n",
    "#     a.append(s)\n",
    "# print(a)\n",
    "for i in range(n):\n",
    "    s = list(map(int, input().split()))\n",
    "    for j in range(n):\n",
    "        if (s[j] == 1):\n",
    "            print(i + 1, j + 1)"
   ]
  },
  {
   "cell_type": "code",
   "execution_count": 7,
   "id": "41050ebe",
   "metadata": {},
   "outputs": [
    {
     "name": "stdout",
     "output_type": "stream",
     "text": [
      "4 3\n",
      "1 2\n",
      "2 3\n",
      "1 3\n",
      "3\n",
      "0 1 2\n"
     ]
    }
   ],
   "source": [
    "n, m = map(int, input().split())\n",
    "g = []\n",
    "for i in range(n):\n",
    "    g.append([])\n",
    "for i in range(m):\n",
    "    a, b = map(int, input().split())\n",
    "    g[a - 1].append(b - 1)\n",
    "    g[b - 1].append(a - 1)\n",
    "used = [0] * n\n",
    "\n",
    "def dfs(v):\n",
    "    used[v] = 1\n",
    "    for i in g[v]:\n",
    "        if (used[i] == 0):\n",
    "            dfs(i)\n",
    "\n",
    "dfs(0)\n",
    "\n",
    "v = []\n",
    "for i in range(n):\n",
    "    if (used[i] == 1):\n",
    "        v.append(i + 1)\n",
    "print(len(v))\n",
    "print(*v)"
   ]
  },
  {
   "cell_type": "code",
   "execution_count": null,
   "id": "11e322b5",
   "metadata": {},
   "outputs": [],
   "source": [
    "import sys\n",
    "sys.setrecursionlimit(10000)\n",
    "n, m = map(int, input().split())\n",
    "graph = {i+1: [] for i in range(n)}\n",
    "\n",
    "for i in range(m):\n",
    "    a, b = map(int, input().split())\n",
    "    graph[a].append(b)\n",
    "    graph[b].append(a)\n",
    "\n",
    "visited = set()  # Set to keep track of visited nodes of graph.\n",
    "\n",
    "\n",
    "def dfs(visited, graph, node):  # function for dfs\n",
    "    if node not in visited:\n",
    "        visited.add(node)\n",
    "        for neighbour in graph[node]:\n",
    "            dfs(visited, graph, neighbour)\n",
    "\n",
    "\n",
    "# Driver Code\n",
    "dfs(visited, graph, 1)\n",
    "print(len(visited))\n",
    "print(*visited)"
   ]
  },
  {
   "cell_type": "code",
   "execution_count": null,
   "id": "a4592b9c",
   "metadata": {},
   "outputs": [],
   "source": [
    "import collections\n",
    "\n",
    "n = int(input())\n",
    "g = []\n",
    "for q in range(n):\n",
    "    g.append(list(map(int, input().split())))\n",
    "s, e = map(int, input().split())\n",
    "s -= 1\n",
    "e -= 1\n",
    "\n",
    "if (s == e):\n",
    "    print(0)\n",
    "else:\n",
    "    visited = set()\n",
    "    visited.add(s)\n",
    "    q = []\n",
    "    q.append((s, [s]))\n",
    "    flag = 0\n",
    "    while q:\n",
    "        temp, way = q.pop()\n",
    "        if (temp == e):\n",
    "            flag = 1\n",
    "            print(len(way) - 1)\n",
    "            for v in way:\n",
    "                print(v + 1, end = ' ')\n",
    "            break\n",
    "        for v in range(n):\n",
    "            if (g[temp][v] == 1 and q not in visited):\n",
    "                visited.add(v)\n",
    "                q.insert(0, (v, way + [v]))\n",
    "    if flag == 0:\n",
    "        print(-1)"
   ]
  }
 ],
 "metadata": {
  "kernelspec": {
   "display_name": "Python 3 (ipykernel)",
   "language": "python",
   "name": "python3"
  },
  "language_info": {
   "codemirror_mode": {
    "name": "ipython",
    "version": 3
   },
   "file_extension": ".py",
   "mimetype": "text/x-python",
   "name": "python",
   "nbconvert_exporter": "python",
   "pygments_lexer": "ipython3",
   "version": "3.9.12"
  }
 },
 "nbformat": 4,
 "nbformat_minor": 5
}
