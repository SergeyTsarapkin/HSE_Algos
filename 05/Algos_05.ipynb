{
 "cells": [
  {
   "cell_type": "code",
   "execution_count": 34,
   "id": "4c0eb37b",
   "metadata": {},
   "outputs": [
    {
     "name": "stdout",
     "output_type": "stream",
     "text": [
      "4 3\n",
      "1 2\n",
      "1 3\n",
      "1 4\n",
      "0 1 [1, 0, 0, 0] []\n",
      "3 2 [1, 2, 2, 2] [1, 2]\n",
      "11111111\n",
      "[1, 2, 2, 2]\n",
      "NO\n"
     ]
    }
   ],
   "source": [
    "import sys\n",
    "sys.setrecursionlimit(10000)\n",
    "\n",
    "def dfs(v, g, used, d):\n",
    "    used[v] = d\n",
    "    for i in g[v]:\n",
    "        if (used[i] == 0):\n",
    "            dfs(i, g, used, 3 - d)\n",
    "        elif (used[i] == d):\n",
    "            return False\n",
    "        \n",
    "def dfs_not_recursion(v, g, used, d):\n",
    "    used[v] = d\n",
    "    l = []\n",
    "    l.append(v)\n",
    "    while (len(l) > 0):\n",
    "        u = l.pop()\n",
    "        print(u, d, used, l)\n",
    "        d = 3 - used[u]\n",
    "        for i in g[u]:\n",
    "            if (used[i] == d):\n",
    "                print(11111111)\n",
    "                return False\n",
    "            elif (used[i] == 0):\n",
    "                used[i] = d\n",
    "                l.append(i)\n",
    "    return True\n",
    "\n",
    "n, m = map(int, input().split())\n",
    "g = []\n",
    "for i in range(n):\n",
    "    g.append([])\n",
    "for i in range(m):\n",
    "    a, b = map(int, input().split())\n",
    "    g[a - 1].append(b - 1)\n",
    "    g[b - 1].append(a - 1)\n",
    "\n",
    "used = [0] * n\n",
    "flag = True\n",
    "for i in range(n):\n",
    "    if (used[i] == 0):\n",
    "        val = dfs_not_recursion(i, g, used, 1)\n",
    "        if (val != None and not val):\n",
    "            flag = False\n",
    "print(used)\n",
    "if (flag):\n",
    "    print('YES')\n",
    "else:\n",
    "    print('NO')"
   ]
  },
  {
   "cell_type": "code",
   "execution_count": 21,
   "id": "04d44612",
   "metadata": {},
   "outputs": [
    {
     "name": "stdout",
     "output_type": "stream",
     "text": [
      "7 4\n",
      "1 2\n",
      "3 4\n",
      "5 6\n",
      "4 5\n",
      "[1, 1, 2, 2, 2, 2, 3]\n"
     ]
    }
   ],
   "source": [
    "import sys\n",
    "sys.setrecursionlimit(10000)\n",
    "\n",
    "def dfs(v, g, used, d):\n",
    "    used[v] = d\n",
    "    for i in g[v]:\n",
    "        if (used[i] == 0):\n",
    "            dfs(i, g, used, d)\n",
    "        \n",
    "n, m = map(int, input().split())\n",
    "g = []\n",
    "for i in range(n):\n",
    "    g.append([])\n",
    "# g = [[]*n]\n",
    "for i in range(m):\n",
    "    a, b = map(int, input().split())\n",
    "    g[a - 1].append(b - 1)\n",
    "    g[b - 1].append(a - 1)\n",
    "\n",
    "used = [0] * n\n",
    "comp = 1\n",
    "for i in range(n):\n",
    "    if (used[i] == 0):\n",
    "        dfs(i, g, used, comp)\n",
    "        comp += 1\n",
    "print(used)"
   ]
  },
  {
   "cell_type": "code",
   "execution_count": 29,
   "id": "ae0d97fd",
   "metadata": {},
   "outputs": [
    {
     "name": "stdout",
     "output_type": "stream",
     "text": [
      "4 3\n",
      "1 2\n",
      "1 3\n",
      "1 4\n",
      "[2, 2, 2, 2]\n",
      "[-1, 0, 0, 0]\n",
      "False\n"
     ]
    }
   ],
   "source": [
    "import sys\n",
    "sys.setrecursionlimit(10000)\n",
    "\n",
    "def dfs(v, g, used, p):\n",
    "    used[v] = 1\n",
    "    for i in g[v]:\n",
    "        if (used[i] == 0):\n",
    "            p[i] = v\n",
    "            dfs(i, g, used, p)\n",
    "        elif (used[i] == 1 and i != p[v]): #cycle\n",
    "            return False\n",
    "    used[v] = 2\n",
    "        \n",
    "n, m = map(int, input().split())\n",
    "g = []\n",
    "p = [-1] * n\n",
    "for i in range(n):\n",
    "    g.append([])\n",
    "# g = [[]*n]\n",
    "for i in range(m):\n",
    "    a, b = map(int, input().split())\n",
    "    g[a - 1].append(b - 1)\n",
    "    g[b - 1].append(a - 1)\n",
    "\n",
    "used = [0] * n\n",
    "cycle = False\n",
    "for i in range(n):\n",
    "    if (used[i] == 0):\n",
    "        val = dfs(i, g, used, p)\n",
    "        if (val != None and not dfs(i, g, used, p)):\n",
    "            cycle = True\n",
    "print(used)\n",
    "print(p)\n",
    "print(cycle)"
   ]
  },
  {
   "cell_type": "code",
   "execution_count": 36,
   "id": "b23409da",
   "metadata": {},
   "outputs": [
    {
     "name": "stdout",
     "output_type": "stream",
     "text": [
      "3 2 1\n",
      "0 1 1\n",
      "4 0 1\n",
      "2 1 0\n",
      "3\n"
     ]
    }
   ],
   "source": [
    "n, s, f = map(int, input().split())\n",
    "s -= 1\n",
    "f -= 1\n",
    "inf = 10000000000\n",
    "used, parent, ras = [0]*n, [], [inf]*n\n",
    "matrix=[]\n",
    "for i in range(n):\n",
    "    matrix.append([int(i) for i in input().split()])\n",
    "    for j in range(n):\n",
    "        if matrix[i][j] == -1:\n",
    "            matrix[i][j] = inf\n",
    "            \n",
    "ras[s] = 0\n",
    "k = s\n",
    "minras = 0\n",
    "# O(n*n)\n",
    "while (minras < inf and k != f):\n",
    "    used[k] = 1\n",
    "    for j in range(n):\n",
    "        if ras[k] + matrix[k][j] < ras[j]:\n",
    "            ras[j] = ras[k] + matrix[k][j]\n",
    "    minras = inf\n",
    "    for j in range(n):\n",
    "        if (used[j] == 0 and ras[j] < minras):\n",
    "            minras = ras[j]\n",
    "            k = j\n",
    "\n",
    "if ras[f] == inf:\n",
    "    print(-1)\n",
    "else:\n",
    "    print(ras[f])"
   ]
  },
  {
   "cell_type": "code",
   "execution_count": null,
   "id": "b92d8f52",
   "metadata": {},
   "outputs": [],
   "source": []
  }
 ],
 "metadata": {
  "kernelspec": {
   "display_name": "Python 3 (ipykernel)",
   "language": "python",
   "name": "python3"
  },
  "language_info": {
   "codemirror_mode": {
    "name": "ipython",
    "version": 3
   },
   "file_extension": ".py",
   "mimetype": "text/x-python",
   "name": "python",
   "nbconvert_exporter": "python",
   "pygments_lexer": "ipython3",
   "version": "3.9.12"
  }
 },
 "nbformat": 4,
 "nbformat_minor": 5
}
