{
 "cells": [
  {
   "cell_type": "code",
   "execution_count": 1,
   "id": "1bf1baad",
   "metadata": {},
   "outputs": [],
   "source": [
    "def fact(n):\n",
    "    if (n == 0 or n == 1):\n",
    "        return 1\n",
    "    return n * fact(n - 1)"
   ]
  },
  {
   "cell_type": "code",
   "execution_count": 2,
   "id": "fe4611b7",
   "metadata": {},
   "outputs": [
    {
     "data": {
      "text/plain": [
       "120"
      ]
     },
     "execution_count": 2,
     "metadata": {},
     "output_type": "execute_result"
    }
   ],
   "source": [
    "fact(5)"
   ]
  },
  {
   "cell_type": "code",
   "execution_count": 3,
   "id": "fed6598e",
   "metadata": {},
   "outputs": [
    {
     "data": {
      "text/plain": [
       "24"
      ]
     },
     "execution_count": 3,
     "metadata": {},
     "output_type": "execute_result"
    }
   ],
   "source": [
    "fact(4)"
   ]
  },
  {
   "cell_type": "code",
   "execution_count": 28,
   "id": "1acef7e3",
   "metadata": {},
   "outputs": [],
   "source": [
    "n = 20\n",
    "d = [0] * n\n",
    "d[0] = 1\n",
    "d[1] = 1\n",
    "\n",
    "def fact2(n):\n",
    "    print(n, d)\n",
    "    if (n == 0 or n == 1):\n",
    "        print(\"***\")\n",
    "        return d[n]\n",
    "    if (d[n] == 0):\n",
    "        print(\"---\")\n",
    "        d[n] = n * fact2(n - 1)\n",
    "        return d[n]\n",
    "    else:\n",
    "        print(\"+++\")\n",
    "        return d[n]"
   ]
  },
  {
   "cell_type": "code",
   "execution_count": 29,
   "id": "73a7e713",
   "metadata": {},
   "outputs": [
    {
     "name": "stdout",
     "output_type": "stream",
     "text": [
      "4 [1, 1, 0, 0, 0, 0, 0, 0, 0, 0, 0, 0, 0, 0, 0, 0, 0, 0, 0, 0]\n",
      "---\n",
      "3 [1, 1, 0, 0, 0, 0, 0, 0, 0, 0, 0, 0, 0, 0, 0, 0, 0, 0, 0, 0]\n",
      "---\n",
      "2 [1, 1, 0, 0, 0, 0, 0, 0, 0, 0, 0, 0, 0, 0, 0, 0, 0, 0, 0, 0]\n",
      "---\n",
      "1 [1, 1, 0, 0, 0, 0, 0, 0, 0, 0, 0, 0, 0, 0, 0, 0, 0, 0, 0, 0]\n",
      "***\n"
     ]
    },
    {
     "data": {
      "text/plain": [
       "24"
      ]
     },
     "execution_count": 29,
     "metadata": {},
     "output_type": "execute_result"
    }
   ],
   "source": [
    "fact2(4)"
   ]
  },
  {
   "cell_type": "code",
   "execution_count": 30,
   "id": "c60b8ccb",
   "metadata": {},
   "outputs": [
    {
     "data": {
      "text/plain": [
       "[1, 1, 2, 6, 24, 0, 0, 0, 0, 0, 0, 0, 0, 0, 0, 0, 0, 0, 0, 0]"
      ]
     },
     "execution_count": 30,
     "metadata": {},
     "output_type": "execute_result"
    }
   ],
   "source": [
    "d"
   ]
  },
  {
   "cell_type": "code",
   "execution_count": 31,
   "id": "6986135c",
   "metadata": {},
   "outputs": [
    {
     "name": "stdout",
     "output_type": "stream",
     "text": [
      "3 [1, 1, 2, 6, 24, 0, 0, 0, 0, 0, 0, 0, 0, 0, 0, 0, 0, 0, 0, 0]\n",
      "+++\n"
     ]
    },
    {
     "data": {
      "text/plain": [
       "6"
      ]
     },
     "execution_count": 31,
     "metadata": {},
     "output_type": "execute_result"
    }
   ],
   "source": [
    "fact2(3)"
   ]
  },
  {
   "cell_type": "code",
   "execution_count": 33,
   "id": "36b271fc",
   "metadata": {},
   "outputs": [
    {
     "name": "stdout",
     "output_type": "stream",
     "text": [
      "6 [1, 1, 2, 6, 24, 120, 0, 0, 0, 0, 0, 0, 0, 0, 0, 0, 0, 0, 0, 0]\n",
      "---\n",
      "5 [1, 1, 2, 6, 24, 120, 0, 0, 0, 0, 0, 0, 0, 0, 0, 0, 0, 0, 0, 0]\n",
      "+++\n"
     ]
    },
    {
     "data": {
      "text/plain": [
       "720"
      ]
     },
     "execution_count": 33,
     "metadata": {},
     "output_type": "execute_result"
    }
   ],
   "source": [
    "fact2(6)"
   ]
  },
  {
   "cell_type": "code",
   "execution_count": 36,
   "id": "9d25b05c",
   "metadata": {},
   "outputs": [],
   "source": [
    "def fact3(n):\n",
    "    res = 1\n",
    "    for i in range(1, n + 1):\n",
    "        res *= i\n",
    "    return res"
   ]
  },
  {
   "cell_type": "code",
   "execution_count": 37,
   "id": "d2c319ea",
   "metadata": {},
   "outputs": [
    {
     "data": {
      "text/plain": [
       "720"
      ]
     },
     "execution_count": 37,
     "metadata": {},
     "output_type": "execute_result"
    }
   ],
   "source": [
    "fact3(6)"
   ]
  },
  {
   "cell_type": "code",
   "execution_count": 65,
   "id": "7dede90d",
   "metadata": {},
   "outputs": [],
   "source": [
    "n = 20\n",
    "d = [0] * n\n",
    "d[0] = 1\n",
    "d[1] = 1\n",
    "d[2] = 2\n",
    "d[3] = 4\n",
    "\n",
    "def task01(n):\n",
    "    print(n, d)\n",
    "    if (n == 0 or n == 1 or n == 2 or n == 3):\n",
    "        print(\"*** base\")\n",
    "        return d[n]\n",
    "    if (d[n] == 0):\n",
    "        print(\"---\")\n",
    "        if (d[n - 1] != 0):\n",
    "            d[n] = d[n - 1] + d[n - 2] + d[n - 3]\n",
    "        elif (d[n - 2] != 0):\n",
    "            d[n] = task01(n - 1) + d[n - 2] + d[n - 3]\n",
    "        elif (d[n - 3] != 0):\n",
    "            d[n] = task01(n - 2) + task01(n - 1) + d[n - 3]\n",
    "        else:\n",
    "            d[n] = task01(n - 3) + task01(n - 2) + task01(n - 1)\n",
    "        return d[n]\n",
    "    else:\n",
    "        print(\"+++ done\")\n",
    "        return d[n]"
   ]
  },
  {
   "cell_type": "code",
   "execution_count": 66,
   "id": "6e3d0ab4",
   "metadata": {},
   "outputs": [
    {
     "data": {
      "text/plain": [
       "[1, 1, 2, 4, 0, 0, 0, 0, 0, 0, 0, 0, 0, 0, 0, 0, 0, 0, 0, 0]"
      ]
     },
     "execution_count": 66,
     "metadata": {},
     "output_type": "execute_result"
    }
   ],
   "source": [
    "d"
   ]
  },
  {
   "cell_type": "code",
   "execution_count": 67,
   "id": "9874a10c",
   "metadata": {},
   "outputs": [
    {
     "name": "stdout",
     "output_type": "stream",
     "text": [
      "3 [1, 1, 2, 4, 0, 0, 0, 0, 0, 0, 0, 0, 0, 0, 0, 0, 0, 0, 0, 0]\n",
      "*** base\n"
     ]
    },
    {
     "data": {
      "text/plain": [
       "4"
      ]
     },
     "execution_count": 67,
     "metadata": {},
     "output_type": "execute_result"
    }
   ],
   "source": [
    "task01(3)"
   ]
  },
  {
   "cell_type": "code",
   "execution_count": 68,
   "id": "20dd04c4",
   "metadata": {},
   "outputs": [
    {
     "name": "stdout",
     "output_type": "stream",
     "text": [
      "4 [1, 1, 2, 4, 0, 0, 0, 0, 0, 0, 0, 0, 0, 0, 0, 0, 0, 0, 0, 0]\n",
      "---\n"
     ]
    },
    {
     "data": {
      "text/plain": [
       "7"
      ]
     },
     "execution_count": 68,
     "metadata": {},
     "output_type": "execute_result"
    }
   ],
   "source": [
    "task01(4)"
   ]
  },
  {
   "cell_type": "code",
   "execution_count": 69,
   "id": "abb3a20c",
   "metadata": {},
   "outputs": [
    {
     "data": {
      "text/plain": [
       "[1, 1, 2, 4, 7, 0, 0, 0, 0, 0, 0, 0, 0, 0, 0, 0, 0, 0, 0, 0]"
      ]
     },
     "execution_count": 69,
     "metadata": {},
     "output_type": "execute_result"
    }
   ],
   "source": [
    "d"
   ]
  },
  {
   "cell_type": "code",
   "execution_count": 70,
   "id": "87c3d906",
   "metadata": {},
   "outputs": [
    {
     "name": "stdout",
     "output_type": "stream",
     "text": [
      "8 [1, 1, 2, 4, 7, 0, 0, 0, 0, 0, 0, 0, 0, 0, 0, 0, 0, 0, 0, 0]\n",
      "---\n",
      "5 [1, 1, 2, 4, 7, 0, 0, 0, 0, 0, 0, 0, 0, 0, 0, 0, 0, 0, 0, 0]\n",
      "---\n",
      "6 [1, 1, 2, 4, 7, 13, 0, 0, 0, 0, 0, 0, 0, 0, 0, 0, 0, 0, 0, 0]\n",
      "---\n",
      "7 [1, 1, 2, 4, 7, 13, 24, 0, 0, 0, 0, 0, 0, 0, 0, 0, 0, 0, 0, 0]\n",
      "---\n"
     ]
    },
    {
     "data": {
      "text/plain": [
       "81"
      ]
     },
     "execution_count": 70,
     "metadata": {},
     "output_type": "execute_result"
    }
   ],
   "source": [
    "task01(8)"
   ]
  },
  {
   "cell_type": "code",
   "execution_count": 71,
   "id": "ac4f289b",
   "metadata": {},
   "outputs": [
    {
     "name": "stdout",
     "output_type": "stream",
     "text": [
      "17 [1, 1, 2, 4, 7, 13, 24, 44, 81, 0, 0, 0, 0, 0, 0, 0, 0, 0, 0, 0]\n",
      "---\n",
      "14 [1, 1, 2, 4, 7, 13, 24, 44, 81, 0, 0, 0, 0, 0, 0, 0, 0, 0, 0, 0]\n",
      "---\n",
      "11 [1, 1, 2, 4, 7, 13, 24, 44, 81, 0, 0, 0, 0, 0, 0, 0, 0, 0, 0, 0]\n",
      "---\n",
      "9 [1, 1, 2, 4, 7, 13, 24, 44, 81, 0, 0, 0, 0, 0, 0, 0, 0, 0, 0, 0]\n",
      "---\n",
      "10 [1, 1, 2, 4, 7, 13, 24, 44, 81, 149, 0, 0, 0, 0, 0, 0, 0, 0, 0, 0]\n",
      "---\n",
      "12 [1, 1, 2, 4, 7, 13, 24, 44, 81, 149, 274, 504, 0, 0, 0, 0, 0, 0, 0, 0]\n",
      "---\n",
      "13 [1, 1, 2, 4, 7, 13, 24, 44, 81, 149, 274, 504, 927, 0, 0, 0, 0, 0, 0, 0]\n",
      "---\n",
      "15 [1, 1, 2, 4, 7, 13, 24, 44, 81, 149, 274, 504, 927, 1705, 3136, 0, 0, 0, 0, 0]\n",
      "---\n",
      "16 [1, 1, 2, 4, 7, 13, 24, 44, 81, 149, 274, 504, 927, 1705, 3136, 5768, 0, 0, 0, 0]\n",
      "---\n"
     ]
    },
    {
     "data": {
      "text/plain": [
       "19513"
      ]
     },
     "execution_count": 71,
     "metadata": {},
     "output_type": "execute_result"
    }
   ],
   "source": [
    "task01(17)"
   ]
  },
  {
   "cell_type": "code",
   "execution_count": 99,
   "id": "48c383eb",
   "metadata": {},
   "outputs": [],
   "source": [
    "n = 100\n",
    "d = [0] * n\n",
    "d[0] = 1\n",
    "d[1] = 1\n",
    "\n",
    "def task02(n, m):\n",
    "    print(n, d[n], d[m])\n",
    "    if (d[m] != 0 and d[m] < d[n]):\n",
    "        print(\"*** too much\")\n",
    "    if (n == 1):\n",
    "        print(\"*** base\")\n",
    "        return 1\n",
    "    if (d[n] == 0):\n",
    "        print(\"---\")\n",
    "        if (n % 3 == 0 and n % 2 == 0):\n",
    "            d[n] = task02(n // 3, m)\n",
    "            d[n] = min(d[n], task02(n //2, m))\n",
    "            d[n] = min(d[n], task02(n - 1, m))\n",
    "            d[n] += 1\n",
    "        elif (n % 2 == 0):\n",
    "            d[n] = task02(n // 2, m)\n",
    "            d[n] = min(d[n], task02(n - 1, m))\n",
    "            d[n] += 1\n",
    "        elif (n % 3 == 0):\n",
    "            d[n] = task02(n // 3, m)\n",
    "            d[n] = min(d[n], task02(n - 1, m))\n",
    "            d[n] += 1\n",
    "        else:\n",
    "            d[n] = task02(n - 1, m) + 1\n",
    "        return d[n]\n",
    "    else:\n",
    "        print(\"+++ done\")\n",
    "        return d[n]"
   ]
  },
  {
   "cell_type": "code",
   "execution_count": 100,
   "id": "6013a3be",
   "metadata": {},
   "outputs": [
    {
     "name": "stdout",
     "output_type": "stream",
     "text": [
      "81 0 0\n",
      "---\n",
      "27 0 0\n",
      "---\n",
      "9 0 0\n",
      "---\n",
      "3 0 0\n",
      "---\n",
      "1 1 0\n",
      "*** base\n",
      "2 0 0\n",
      "---\n",
      "1 1 0\n",
      "*** base\n",
      "1 1 0\n",
      "*** base\n",
      "8 0 0\n",
      "---\n",
      "4 0 0\n",
      "---\n",
      "2 2 0\n",
      "+++ done\n",
      "3 2 0\n",
      "+++ done\n",
      "7 0 0\n",
      "---\n",
      "6 0 0\n",
      "---\n",
      "2 2 0\n",
      "+++ done\n",
      "3 2 0\n",
      "+++ done\n",
      "5 0 0\n",
      "---\n",
      "4 3 0\n",
      "+++ done\n",
      "26 0 0\n",
      "---\n",
      "13 0 0\n",
      "---\n",
      "12 0 0\n",
      "---\n",
      "4 3 0\n",
      "+++ done\n",
      "6 3 0\n",
      "+++ done\n",
      "11 0 0\n",
      "---\n",
      "10 0 0\n",
      "---\n",
      "5 4 0\n",
      "+++ done\n",
      "9 3 0\n",
      "+++ done\n",
      "25 0 0\n",
      "---\n",
      "24 0 0\n",
      "---\n",
      "8 4 0\n",
      "+++ done\n",
      "12 4 0\n",
      "+++ done\n",
      "23 0 0\n",
      "---\n",
      "22 0 0\n",
      "---\n",
      "11 5 0\n",
      "+++ done\n",
      "21 0 0\n",
      "---\n",
      "7 4 0\n",
      "+++ done\n",
      "20 0 0\n",
      "---\n",
      "10 4 0\n",
      "+++ done\n",
      "19 0 0\n",
      "---\n",
      "18 0 0\n",
      "---\n",
      "6 3 0\n",
      "+++ done\n",
      "9 3 0\n",
      "+++ done\n",
      "17 0 0\n",
      "---\n",
      "16 0 0\n",
      "---\n",
      "8 4 0\n",
      "+++ done\n",
      "15 0 0\n",
      "---\n",
      "5 4 0\n",
      "+++ done\n",
      "14 0 0\n",
      "---\n",
      "7 4 0\n",
      "+++ done\n",
      "13 5 0\n",
      "+++ done\n",
      "80 0 4\n",
      "---\n",
      "40 0 4\n",
      "---\n",
      "20 5 4\n",
      "*** too much\n",
      "+++ done\n",
      "39 0 4\n",
      "---\n",
      "13 5 4\n",
      "*** too much\n",
      "+++ done\n",
      "38 0 4\n",
      "---\n",
      "19 5 4\n",
      "*** too much\n",
      "+++ done\n",
      "37 0 4\n",
      "---\n",
      "36 0 4\n",
      "---\n",
      "12 4 4\n",
      "+++ done\n",
      "18 4 4\n",
      "+++ done\n",
      "35 0 4\n",
      "---\n",
      "34 0 4\n",
      "---\n",
      "17 6 4\n",
      "*** too much\n",
      "+++ done\n",
      "33 0 4\n",
      "---\n",
      "11 5 4\n",
      "*** too much\n",
      "+++ done\n",
      "32 0 4\n",
      "---\n",
      "16 5 4\n",
      "*** too much\n",
      "+++ done\n",
      "31 0 4\n",
      "---\n",
      "30 0 4\n",
      "---\n",
      "10 4 4\n",
      "+++ done\n",
      "15 5 4\n",
      "*** too much\n",
      "+++ done\n",
      "29 0 4\n",
      "---\n",
      "28 0 4\n",
      "---\n",
      "14 5 4\n",
      "*** too much\n",
      "+++ done\n",
      "27 4 4\n",
      "+++ done\n",
      "79 0 4\n",
      "---\n",
      "78 0 4\n",
      "---\n",
      "26 6 4\n",
      "*** too much\n",
      "+++ done\n",
      "39 6 4\n",
      "*** too much\n",
      "+++ done\n",
      "77 0 4\n",
      "---\n",
      "76 0 4\n",
      "---\n",
      "38 6 4\n",
      "*** too much\n",
      "+++ done\n",
      "75 0 4\n",
      "---\n",
      "25 6 4\n",
      "*** too much\n",
      "+++ done\n",
      "74 0 4\n",
      "---\n",
      "37 6 4\n",
      "*** too much\n",
      "+++ done\n",
      "73 0 4\n",
      "---\n",
      "72 0 4\n",
      "---\n",
      "24 5 4\n",
      "*** too much\n",
      "+++ done\n",
      "36 5 4\n",
      "*** too much\n",
      "+++ done\n",
      "71 0 4\n",
      "---\n",
      "70 0 4\n",
      "---\n",
      "35 8 4\n",
      "*** too much\n",
      "+++ done\n",
      "69 0 4\n",
      "---\n",
      "23 7 4\n",
      "*** too much\n",
      "+++ done\n",
      "68 0 4\n",
      "---\n",
      "34 7 4\n",
      "*** too much\n",
      "+++ done\n",
      "67 0 4\n",
      "---\n",
      "66 0 4\n",
      "---\n",
      "22 6 4\n",
      "*** too much\n",
      "+++ done\n",
      "33 6 4\n",
      "*** too much\n",
      "+++ done\n",
      "65 0 4\n",
      "---\n",
      "64 0 4\n",
      "---\n",
      "32 6 4\n",
      "*** too much\n",
      "+++ done\n",
      "63 0 4\n",
      "---\n",
      "21 5 4\n",
      "*** too much\n",
      "+++ done\n",
      "62 0 4\n",
      "---\n",
      "31 6 4\n",
      "*** too much\n",
      "+++ done\n",
      "61 0 4\n",
      "---\n",
      "60 0 4\n",
      "---\n",
      "20 5 4\n",
      "*** too much\n",
      "+++ done\n",
      "30 5 4\n",
      "*** too much\n",
      "+++ done\n",
      "59 0 4\n",
      "---\n",
      "58 0 4\n",
      "---\n",
      "29 6 4\n",
      "*** too much\n",
      "+++ done\n",
      "57 0 4\n",
      "---\n",
      "19 5 4\n",
      "*** too much\n",
      "+++ done\n",
      "56 0 4\n",
      "---\n",
      "28 5 4\n",
      "*** too much\n",
      "+++ done\n",
      "55 0 4\n",
      "---\n",
      "54 0 4\n",
      "---\n",
      "18 4 4\n",
      "+++ done\n",
      "27 4 4\n",
      "+++ done\n",
      "53 0 4\n",
      "---\n",
      "52 0 4\n",
      "---\n",
      "26 6 4\n",
      "*** too much\n",
      "+++ done\n",
      "51 0 4\n",
      "---\n",
      "17 6 4\n",
      "*** too much\n",
      "+++ done\n",
      "50 0 4\n",
      "---\n",
      "25 6 4\n",
      "*** too much\n",
      "+++ done\n",
      "49 0 4\n",
      "---\n",
      "48 0 4\n",
      "---\n",
      "16 5 4\n",
      "*** too much\n",
      "+++ done\n",
      "24 5 4\n",
      "*** too much\n",
      "+++ done\n",
      "47 0 4\n",
      "---\n",
      "46 0 4\n",
      "---\n",
      "23 7 4\n",
      "*** too much\n",
      "+++ done\n",
      "45 0 4\n",
      "---\n",
      "15 5 4\n",
      "*** too much\n",
      "+++ done\n",
      "44 0 4\n",
      "---\n",
      "22 6 4\n",
      "*** too much\n",
      "+++ done\n",
      "43 0 4\n",
      "---\n",
      "42 0 4\n",
      "---\n",
      "14 5 4\n",
      "*** too much\n",
      "+++ done\n",
      "21 5 4\n",
      "*** too much\n",
      "+++ done\n",
      "41 0 4\n",
      "---\n",
      "40 6 4\n",
      "*** too much\n",
      "+++ done\n"
     ]
    },
    {
     "data": {
      "text/plain": [
       "5"
      ]
     },
     "execution_count": 100,
     "metadata": {},
     "output_type": "execute_result"
    }
   ],
   "source": [
    "task02(81, 81)"
   ]
  },
  {
   "cell_type": "code",
   "execution_count": 103,
   "id": "8112cbed",
   "metadata": {},
   "outputs": [
    {
     "data": {
      "text/plain": [
       "5"
      ]
     },
     "execution_count": 103,
     "metadata": {},
     "output_type": "execute_result"
    }
   ],
   "source": [
    "d[81]"
   ]
  },
  {
   "cell_type": "code",
   "execution_count": 114,
   "id": "7eb30fac",
   "metadata": {},
   "outputs": [],
   "source": [
    "# RRLRRRLLR\n",
    "# total = 1 + 1 + 1 + 1\n",
    "# c = L\n",
    "# i = 0 bL = R bR = R\n",
    "# i = 1 bL = R bR = L\n",
    "# i = 2 bL = L bR = R\n",
    "# i = 3 bL = R bR = R\n",
    "# i = 4 bL = R bR = R\n",
    "# i = 5 bL = R bR = L\n",
    "# i = 6 bL = L bR = L\n",
    "# i = 7 bL = L bR = R\n",
    "# i = 8 bL = R bR = None\n",
    "def get_board(r, index, default = None):\n",
    "    try:\n",
    "        return r[index]\n",
    "    except IndexError:\n",
    "        return default\n",
    "\n",
    "def pohod(r):\n",
    "    total = r.count(\"B\")\n",
    "    r = r.replace(\"B\", \"\")\n",
    "    current = \"L\"\n",
    "    for i in range(len(r)):\n",
    "        bL = get_board(r, i) # LR\n",
    "        bR = get_board(r, i + 1) # LR\n",
    "        if current == bL:\n",
    "            if (bL == bR) or (bL == \"L\" and bR is None):\n",
    "                current = \"L\" if current == \"R\" else \"R\"\n",
    "            total += 1\n",
    "    if current == \"L\":\n",
    "        total += 1\n",
    "    \n",
    "    return total"
   ]
  },
  {
   "cell_type": "code",
   "execution_count": 115,
   "id": "78c424bf",
   "metadata": {},
   "outputs": [],
   "source": [
    "# поход\n",
    "\n",
    "with open(\"input.txt\") as in_f:\n",
    "    r = in_f.readline()\n",
    "result = pohod(r)\n",
    "with open(\"output.txt\", \"w\") as out_f:\n",
    "    out_f.write(str(result))"
   ]
  },
  {
   "cell_type": "code",
   "execution_count": 116,
   "id": "de720b5b",
   "metadata": {},
   "outputs": [],
   "source": [
    "# треугольник"
   ]
  },
  {
   "cell_type": "code",
   "execution_count": 144,
   "id": "4d5efeac",
   "metadata": {},
   "outputs": [],
   "source": [
    "d = [\n",
    "    [7],\n",
    "    [3, 8],\n",
    "    [8, 1, 0],\n",
    "    [2, 7, 4, 4],\n",
    "    [4, 5, 2, 6, 5]\n",
    "]\n",
    "s = [\n",
    "    [7],\n",
    "    [3, 8],\n",
    "    [8, 1, 0],\n",
    "    [2, 7, 4, 4],\n",
    "    [4, 5, 2, 6, 5]\n",
    "]"
   ]
  },
  {
   "cell_type": "code",
   "execution_count": 145,
   "id": "9d9a47b5",
   "metadata": {},
   "outputs": [],
   "source": [
    "for i in range(1, len(s)):\n",
    "    for j in range(len(s[i])):\n",
    "        if (j > 0 and j < (len(s[i - 1]))):\n",
    "            s[i][j] += min(s[i - 1][j - 1], s[i - 1][j])\n",
    "        elif (j > 0 and j == (len(s[i - 1]))):\n",
    "            s[i][j] += s[i - 1][j - 1]\n",
    "        elif (j == 0):\n",
    "            s[i][j] += s[i - 1][j]"
   ]
  },
  {
   "cell_type": "code",
   "execution_count": 146,
   "id": "31d86fbb",
   "metadata": {},
   "outputs": [
    {
     "data": {
      "text/plain": [
       "[[7], [10, 15], [18, 11, 15], [20, 18, 15, 19], [24, 23, 17, 21, 24]]"
      ]
     },
     "execution_count": 146,
     "metadata": {},
     "output_type": "execute_result"
    }
   ],
   "source": [
    "s"
   ]
  },
  {
   "cell_type": "code",
   "execution_count": 147,
   "id": "b63f0dc9",
   "metadata": {},
   "outputs": [
    {
     "data": {
      "text/plain": [
       "17"
      ]
     },
     "execution_count": 147,
     "metadata": {},
     "output_type": "execute_result"
    }
   ],
   "source": [
    "min(s[len(s) - 1])"
   ]
  },
  {
   "cell_type": "code",
   "execution_count": 158,
   "id": "fb814888",
   "metadata": {},
   "outputs": [
    {
     "data": {
      "text/plain": [
       "[[100, 7, 100, 100, 100, 100],\n",
       " [100, 10, 15, 200, 200, 200],\n",
       " [100, 18, 11, 15, 300, 300],\n",
       " [100, 20, 18, 15, 19, 400],\n",
       " [100, 24, 23, 17, 21, 24]]"
      ]
     },
     "execution_count": 158,
     "metadata": {},
     "output_type": "execute_result"
    }
   ],
   "source": [
    "d1 = [\n",
    "    [7],\n",
    "    [3, 8],\n",
    "    [8, 1, 0],\n",
    "    [2, 7, 4, 4],\n",
    "    [4, 5, 2, 6, 5]\n",
    "]\n",
    "s1 = [\n",
    "    [100, 7, 100, 100, 100, 100],\n",
    "    [100, 3, 8, 100, 100, 100],\n",
    "    [100, 8, 1, 0, 100, 100],\n",
    "    [100, 2, 7, 4, 4, 100],\n",
    "    [100, 4, 5, 2, 6, 5]\n",
    "]\n",
    "\n",
    "for i in range(1, len(d1)):\n",
    "    for j in range(1, len(s1[i])):\n",
    "        s1[i][j] += min(s1[i - 1][j - 1], s1[i - 1][j])\n",
    "\n",
    "min(s1[len(d1) - 1])\n",
    "s1"
   ]
  },
  {
   "cell_type": "code",
   "execution_count": null,
   "id": "caa72182",
   "metadata": {},
   "outputs": [],
   "source": []
  }
 ],
 "metadata": {
  "kernelspec": {
   "display_name": "Python 3 (ipykernel)",
   "language": "python",
   "name": "python3"
  },
  "language_info": {
   "codemirror_mode": {
    "name": "ipython",
    "version": 3
   },
   "file_extension": ".py",
   "mimetype": "text/x-python",
   "name": "python",
   "nbconvert_exporter": "python",
   "pygments_lexer": "ipython3",
   "version": "3.9.12"
  }
 },
 "nbformat": 4,
 "nbformat_minor": 5
}
